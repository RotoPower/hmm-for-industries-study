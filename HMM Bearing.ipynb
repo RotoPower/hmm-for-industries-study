{
 "cells": [
  {
   "cell_type": "code",
   "execution_count": 8,
   "metadata": {},
   "outputs": [],
   "source": [
    "import pandas as pd\n",
    "import numpy as np"
   ]
  },
  {
   "cell_type": "code",
   "execution_count": 30,
   "metadata": {},
   "outputs": [
    {
     "data": {
      "text/html": [
       "<div>\n",
       "<style scoped>\n",
       "    .dataframe tbody tr th:only-of-type {\n",
       "        vertical-align: middle;\n",
       "    }\n",
       "\n",
       "    .dataframe tbody tr th {\n",
       "        vertical-align: top;\n",
       "    }\n",
       "\n",
       "    .dataframe thead th {\n",
       "        text-align: right;\n",
       "    }\n",
       "</style>\n",
       "<table border=\"1\" class=\"dataframe\">\n",
       "  <thead>\n",
       "    <tr style=\"text-align: right;\">\n",
       "      <th></th>\n",
       "      <th>0</th>\n",
       "      <th>1</th>\n",
       "      <th>2</th>\n",
       "      <th>3</th>\n",
       "      <th>4</th>\n",
       "      <th>5</th>\n",
       "      <th>6</th>\n",
       "      <th>7</th>\n",
       "    </tr>\n",
       "  </thead>\n",
       "  <tbody>\n",
       "    <tr>\n",
       "      <th>0</th>\n",
       "      <td>0.124086</td>\n",
       "      <td>0.123077</td>\n",
       "      <td>0.124692</td>\n",
       "      <td>0.123098</td>\n",
       "      <td>0.121993</td>\n",
       "      <td>0.120885</td>\n",
       "      <td>0.120650</td>\n",
       "      <td>0.122520</td>\n",
       "    </tr>\n",
       "    <tr>\n",
       "      <th>1</th>\n",
       "      <td>0.125157</td>\n",
       "      <td>0.121047</td>\n",
       "      <td>0.119458</td>\n",
       "      <td>0.121360</td>\n",
       "      <td>0.123017</td>\n",
       "      <td>0.120512</td>\n",
       "      <td>0.123048</td>\n",
       "      <td>0.122855</td>\n",
       "    </tr>\n",
       "    <tr>\n",
       "      <th>2</th>\n",
       "      <td>0.125133</td>\n",
       "      <td>0.125864</td>\n",
       "      <td>0.122109</td>\n",
       "      <td>0.126549</td>\n",
       "      <td>0.124533</td>\n",
       "      <td>0.121847</td>\n",
       "      <td>0.120396</td>\n",
       "      <td>0.123333</td>\n",
       "    </tr>\n",
       "    <tr>\n",
       "      <th>3</th>\n",
       "      <td>0.125903</td>\n",
       "      <td>0.122256</td>\n",
       "      <td>0.125582</td>\n",
       "      <td>0.123162</td>\n",
       "      <td>0.122565</td>\n",
       "      <td>0.122018</td>\n",
       "      <td>0.124485</td>\n",
       "      <td>0.125027</td>\n",
       "    </tr>\n",
       "    <tr>\n",
       "      <th>4</th>\n",
       "      <td>0.123719</td>\n",
       "      <td>0.128365</td>\n",
       "      <td>0.121615</td>\n",
       "      <td>0.123504</td>\n",
       "      <td>0.119830</td>\n",
       "      <td>0.126062</td>\n",
       "      <td>0.123403</td>\n",
       "      <td>0.122291</td>\n",
       "    </tr>\n",
       "  </tbody>\n",
       "</table>\n",
       "</div>"
      ],
      "text/plain": [
       "          0         1         2         3         4         5         6  \\\n",
       "0  0.124086  0.123077  0.124692  0.123098  0.121993  0.120885  0.120650   \n",
       "1  0.125157  0.121047  0.119458  0.121360  0.123017  0.120512  0.123048   \n",
       "2  0.125133  0.125864  0.122109  0.126549  0.124533  0.121847  0.120396   \n",
       "3  0.125903  0.122256  0.125582  0.123162  0.122565  0.122018  0.124485   \n",
       "4  0.123719  0.128365  0.121615  0.123504  0.119830  0.126062  0.123403   \n",
       "\n",
       "          7  \n",
       "0  0.122520  \n",
       "1  0.122855  \n",
       "2  0.123333  \n",
       "3  0.125027  \n",
       "4  0.122291  "
      ]
     },
     "execution_count": 30,
     "metadata": {},
     "output_type": "execute_result"
    }
   ],
   "source": [
    "data = pd.read_csv('data/data_rms_bearing_1.csv', header=None)\n",
    "data.head()"
   ]
  },
  {
   "cell_type": "code",
   "execution_count": 31,
   "metadata": {},
   "outputs": [
    {
     "data": {
      "text/html": [
       "<div>\n",
       "<style scoped>\n",
       "    .dataframe tbody tr th:only-of-type {\n",
       "        vertical-align: middle;\n",
       "    }\n",
       "\n",
       "    .dataframe tbody tr th {\n",
       "        vertical-align: top;\n",
       "    }\n",
       "\n",
       "    .dataframe thead th {\n",
       "        text-align: right;\n",
       "    }\n",
       "</style>\n",
       "<table border=\"1\" class=\"dataframe\">\n",
       "  <thead>\n",
       "    <tr style=\"text-align: right;\">\n",
       "      <th></th>\n",
       "      <th>0</th>\n",
       "      <th>1</th>\n",
       "      <th>2</th>\n",
       "      <th>3</th>\n",
       "      <th>4</th>\n",
       "      <th>5</th>\n",
       "      <th>6</th>\n",
       "      <th>7</th>\n",
       "    </tr>\n",
       "  </thead>\n",
       "  <tbody>\n",
       "    <tr>\n",
       "      <th>count</th>\n",
       "      <td>2156.000000</td>\n",
       "      <td>2156.000000</td>\n",
       "      <td>2156.000000</td>\n",
       "      <td>2156.000000</td>\n",
       "      <td>2156.000000</td>\n",
       "      <td>2156.000000</td>\n",
       "      <td>2156.000000</td>\n",
       "      <td>2156.000000</td>\n",
       "    </tr>\n",
       "    <tr>\n",
       "      <th>mean</th>\n",
       "      <td>0.152867</td>\n",
       "      <td>0.153102</td>\n",
       "      <td>0.151212</td>\n",
       "      <td>0.150680</td>\n",
       "      <td>0.153969</td>\n",
       "      <td>0.150338</td>\n",
       "      <td>0.150380</td>\n",
       "      <td>0.150312</td>\n",
       "    </tr>\n",
       "    <tr>\n",
       "      <th>std</th>\n",
       "      <td>0.012501</td>\n",
       "      <td>0.012814</td>\n",
       "      <td>0.013307</td>\n",
       "      <td>0.012899</td>\n",
       "      <td>0.013333</td>\n",
       "      <td>0.013063</td>\n",
       "      <td>0.012918</td>\n",
       "      <td>0.012780</td>\n",
       "    </tr>\n",
       "    <tr>\n",
       "      <th>min</th>\n",
       "      <td>0.119746</td>\n",
       "      <td>0.117820</td>\n",
       "      <td>0.116974</td>\n",
       "      <td>0.115786</td>\n",
       "      <td>0.119502</td>\n",
       "      <td>0.116332</td>\n",
       "      <td>0.116370</td>\n",
       "      <td>0.117361</td>\n",
       "    </tr>\n",
       "    <tr>\n",
       "      <th>25%</th>\n",
       "      <td>0.149213</td>\n",
       "      <td>0.149268</td>\n",
       "      <td>0.147060</td>\n",
       "      <td>0.146744</td>\n",
       "      <td>0.150438</td>\n",
       "      <td>0.146495</td>\n",
       "      <td>0.146565</td>\n",
       "      <td>0.146482</td>\n",
       "    </tr>\n",
       "    <tr>\n",
       "      <th>50%</th>\n",
       "      <td>0.151007</td>\n",
       "      <td>0.151351</td>\n",
       "      <td>0.149639</td>\n",
       "      <td>0.148874</td>\n",
       "      <td>0.152409</td>\n",
       "      <td>0.148438</td>\n",
       "      <td>0.148448</td>\n",
       "      <td>0.148342</td>\n",
       "    </tr>\n",
       "    <tr>\n",
       "      <th>75%</th>\n",
       "      <td>0.156103</td>\n",
       "      <td>0.156384</td>\n",
       "      <td>0.154420</td>\n",
       "      <td>0.154026</td>\n",
       "      <td>0.158056</td>\n",
       "      <td>0.153872</td>\n",
       "      <td>0.153553</td>\n",
       "      <td>0.153606</td>\n",
       "    </tr>\n",
       "    <tr>\n",
       "      <th>max</th>\n",
       "      <td>0.326161</td>\n",
       "      <td>0.325306</td>\n",
       "      <td>0.377078</td>\n",
       "      <td>0.349152</td>\n",
       "      <td>0.322789</td>\n",
       "      <td>0.347876</td>\n",
       "      <td>0.358188</td>\n",
       "      <td>0.320975</td>\n",
       "    </tr>\n",
       "  </tbody>\n",
       "</table>\n",
       "</div>"
      ],
      "text/plain": [
       "                 0            1            2            3            4  \\\n",
       "count  2156.000000  2156.000000  2156.000000  2156.000000  2156.000000   \n",
       "mean      0.152867     0.153102     0.151212     0.150680     0.153969   \n",
       "std       0.012501     0.012814     0.013307     0.012899     0.013333   \n",
       "min       0.119746     0.117820     0.116974     0.115786     0.119502   \n",
       "25%       0.149213     0.149268     0.147060     0.146744     0.150438   \n",
       "50%       0.151007     0.151351     0.149639     0.148874     0.152409   \n",
       "75%       0.156103     0.156384     0.154420     0.154026     0.158056   \n",
       "max       0.326161     0.325306     0.377078     0.349152     0.322789   \n",
       "\n",
       "                 5            6            7  \n",
       "count  2156.000000  2156.000000  2156.000000  \n",
       "mean      0.150338     0.150380     0.150312  \n",
       "std       0.013063     0.012918     0.012780  \n",
       "min       0.116332     0.116370     0.117361  \n",
       "25%       0.146495     0.146565     0.146482  \n",
       "50%       0.148438     0.148448     0.148342  \n",
       "75%       0.153872     0.153553     0.153606  \n",
       "max       0.347876     0.358188     0.320975  "
      ]
     },
     "execution_count": 31,
     "metadata": {},
     "output_type": "execute_result"
    }
   ],
   "source": [
    "data.describe()"
   ]
  },
  {
   "cell_type": "code",
   "execution_count": 32,
   "metadata": {},
   "outputs": [
    {
     "name": "stdout",
     "output_type": "stream",
     "text": [
      "<class 'pandas.core.frame.DataFrame'>\n",
      "RangeIndex: 2156 entries, 0 to 2155\n",
      "Data columns (total 8 columns):\n",
      "0    2156 non-null float64\n",
      "1    2156 non-null float64\n",
      "2    2156 non-null float64\n",
      "3    2156 non-null float64\n",
      "4    2156 non-null float64\n",
      "5    2156 non-null float64\n",
      "6    2156 non-null float64\n",
      "7    2156 non-null float64\n",
      "dtypes: float64(8)\n",
      "memory usage: 134.8 KB\n"
     ]
    }
   ],
   "source": [
    "data.info()"
   ]
  },
  {
   "cell_type": "code",
   "execution_count": 33,
   "metadata": {},
   "outputs": [],
   "source": [
    "import missingno as msno"
   ]
  },
  {
   "cell_type": "code",
   "execution_count": 34,
   "metadata": {},
   "outputs": [
    {
     "data": {
      "text/plain": [
       "<matplotlib.axes._subplots.AxesSubplot at 0x159edb5c438>"
      ]
     },
     "execution_count": 34,
     "metadata": {},
     "output_type": "execute_result"
    },
    {
     "data": {
      "image/png": "[encoded data removed]",
      "text/plain": [
       "<Figure size 1800x720 with 2 Axes>"
      ]
     },
     "metadata": {},
     "output_type": "display_data"
    }
   ],
   "source": [
    "# gives us a quick visual inspection of the data\n",
    "msno.matrix(data)"
   ]
  },
  {
   "cell_type": "code",
   "execution_count": 47,
   "metadata": {},
   "outputs": [
    {
     "data": {
      "text/plain": [
       "list"
      ]
     },
     "execution_count": 47,
     "metadata": {},
     "output_type": "execute_result"
    }
   ],
   "source": [
    "# waktu\n",
    "minutes = []\n",
    "time = 0\n",
    "for i in range(2156):\n",
    "    minutes.append(time)\n",
    "    if i < 42:\n",
    "        time += 5\n",
    "    else:\n",
    "        time += 10\n",
    "        \n",
    "type(minutes)"
   ]
  },
  {
   "cell_type": "code",
   "execution_count": 48,
   "metadata": {},
   "outputs": [
    {
     "data": {
      "text/html": [
       "<div>\n",
       "<style scoped>\n",
       "    .dataframe tbody tr th:only-of-type {\n",
       "        vertical-align: middle;\n",
       "    }\n",
       "\n",
       "    .dataframe tbody tr th {\n",
       "        vertical-align: top;\n",
       "    }\n",
       "\n",
       "    .dataframe thead th {\n",
       "        text-align: right;\n",
       "    }\n",
       "</style>\n",
       "<table border=\"1\" class=\"dataframe\">\n",
       "  <thead>\n",
       "    <tr style=\"text-align: right;\">\n",
       "      <th></th>\n",
       "      <th>0</th>\n",
       "      <th>1</th>\n",
       "      <th>2</th>\n",
       "      <th>3</th>\n",
       "      <th>4</th>\n",
       "      <th>5</th>\n",
       "      <th>6</th>\n",
       "      <th>7</th>\n",
       "      <th>times</th>\n",
       "    </tr>\n",
       "  </thead>\n",
       "  <tbody>\n",
       "    <tr>\n",
       "      <th>0</th>\n",
       "      <td>0.124086</td>\n",
       "      <td>0.123077</td>\n",
       "      <td>0.124692</td>\n",
       "      <td>0.123098</td>\n",
       "      <td>0.121993</td>\n",
       "      <td>0.120885</td>\n",
       "      <td>0.120650</td>\n",
       "      <td>0.122520</td>\n",
       "      <td>0</td>\n",
       "    </tr>\n",
       "    <tr>\n",
       "      <th>1</th>\n",
       "      <td>0.125157</td>\n",
       "      <td>0.121047</td>\n",
       "      <td>0.119458</td>\n",
       "      <td>0.121360</td>\n",
       "      <td>0.123017</td>\n",
       "      <td>0.120512</td>\n",
       "      <td>0.123048</td>\n",
       "      <td>0.122855</td>\n",
       "      <td>5</td>\n",
       "    </tr>\n",
       "    <tr>\n",
       "      <th>2</th>\n",
       "      <td>0.125133</td>\n",
       "      <td>0.125864</td>\n",
       "      <td>0.122109</td>\n",
       "      <td>0.126549</td>\n",
       "      <td>0.124533</td>\n",
       "      <td>0.121847</td>\n",
       "      <td>0.120396</td>\n",
       "      <td>0.123333</td>\n",
       "      <td>10</td>\n",
       "    </tr>\n",
       "    <tr>\n",
       "      <th>3</th>\n",
       "      <td>0.125903</td>\n",
       "      <td>0.122256</td>\n",
       "      <td>0.125582</td>\n",
       "      <td>0.123162</td>\n",
       "      <td>0.122565</td>\n",
       "      <td>0.122018</td>\n",
       "      <td>0.124485</td>\n",
       "      <td>0.125027</td>\n",
       "      <td>15</td>\n",
       "    </tr>\n",
       "    <tr>\n",
       "      <th>4</th>\n",
       "      <td>0.123719</td>\n",
       "      <td>0.128365</td>\n",
       "      <td>0.121615</td>\n",
       "      <td>0.123504</td>\n",
       "      <td>0.119830</td>\n",
       "      <td>0.126062</td>\n",
       "      <td>0.123403</td>\n",
       "      <td>0.122291</td>\n",
       "      <td>20</td>\n",
       "    </tr>\n",
       "  </tbody>\n",
       "</table>\n",
       "</div>"
      ],
      "text/plain": [
       "          0         1         2         3         4         5         6  \\\n",
       "0  0.124086  0.123077  0.124692  0.123098  0.121993  0.120885  0.120650   \n",
       "1  0.125157  0.121047  0.119458  0.121360  0.123017  0.120512  0.123048   \n",
       "2  0.125133  0.125864  0.122109  0.126549  0.124533  0.121847  0.120396   \n",
       "3  0.125903  0.122256  0.125582  0.123162  0.122565  0.122018  0.124485   \n",
       "4  0.123719  0.128365  0.121615  0.123504  0.119830  0.126062  0.123403   \n",
       "\n",
       "          7  times  \n",
       "0  0.122520      0  \n",
       "1  0.122855      5  \n",
       "2  0.123333     10  \n",
       "3  0.125027     15  \n",
       "4  0.122291     20  "
      ]
     },
     "execution_count": 48,
     "metadata": {},
     "output_type": "execute_result"
    }
   ],
   "source": [
    "# masukkan ke dalam pandas data\n",
    "data['times'] = pd.Series(minutes).values\n",
    "data.head()"
   ]
  },
  {
   "cell_type": "code",
   "execution_count": 54,
   "metadata": {},
   "outputs": [],
   "source": [
    "import matplotlib.pyplot as plt\n",
    "from matplotlib import cm\n",
    "import seaborn as sns\n",
    "sns.set_style(\"white\")"
   ]
  },
  {
   "cell_type": "code",
   "execution_count": 60,
   "metadata": {},
   "outputs": [
    {
     "name": "stdout",
     "output_type": "stream",
     "text": [
      "<zip object at 0x00000159EF6DB148>\n"
     ]
    },
    {
     "data": {
      "text/plain": [
       "[Text(0.5,0,'Time(min)')]"
      ]
     },
     "execution_count": 60,
     "metadata": {},
     "output_type": "execute_result"
    },
    {
     "data": {
      "image/png": "[encoded data removed]",
      "text/plain": [
       "<Figure size 864x1584 with 8 Axes>"
      ]
     },
     "metadata": {},
     "output_type": "display_data"
    }
   ],
   "source": [
    "fig, axs = plt.subplots(8, sharex=True,  sharey=True, figsize=(12, 22))\n",
    "colors = cm.rainbow(np.linspace(0, 1, 8))\n",
    "\n",
    "for i, (ax, color) in enumerate(zip(axs, colors)):\n",
    "    mask = data['times'] == i\n",
    "    ax.plot(data['times'], data[i], c=color)\n",
    "    ax.set_title(\"{0}th signal\".format(i), fontsize=16)\n",
    "    plt.ticklabel_format(style='sci', axis='x', scilimits=(0,0))\n",
    "ax.set(xlabel='Time(min)')"
   ]
  },
  {
   "cell_type": "code",
   "execution_count": 65,
   "metadata": {},
   "outputs": [
    {
     "data": {
      "text/html": [
       "<div>\n",
       "<style scoped>\n",
       "    .dataframe tbody tr th:only-of-type {\n",
       "        vertical-align: middle;\n",
       "    }\n",
       "\n",
       "    .dataframe tbody tr th {\n",
       "        vertical-align: top;\n",
       "    }\n",
       "\n",
       "    .dataframe thead th {\n",
       "        text-align: right;\n",
       "    }\n",
       "</style>\n",
       "<table border=\"1\" class=\"dataframe\">\n",
       "  <thead>\n",
       "    <tr style=\"text-align: right;\">\n",
       "      <th></th>\n",
       "      <th>0</th>\n",
       "      <th>1</th>\n",
       "      <th>2</th>\n",
       "      <th>3</th>\n",
       "      <th>4</th>\n",
       "      <th>5</th>\n",
       "      <th>6</th>\n",
       "      <th>7</th>\n",
       "      <th>times</th>\n",
       "    </tr>\n",
       "  </thead>\n",
       "  <tbody>\n",
       "    <tr>\n",
       "      <th>count</th>\n",
       "      <td>2156.000000</td>\n",
       "      <td>2156.000000</td>\n",
       "      <td>2156.000000</td>\n",
       "      <td>2156.000000</td>\n",
       "      <td>2156.000000</td>\n",
       "      <td>2156.000000</td>\n",
       "      <td>2156.000000</td>\n",
       "      <td>2156.000000</td>\n",
       "      <td>2156.000000</td>\n",
       "    </tr>\n",
       "    <tr>\n",
       "      <th>mean</th>\n",
       "      <td>0.152867</td>\n",
       "      <td>0.153102</td>\n",
       "      <td>0.151212</td>\n",
       "      <td>0.150680</td>\n",
       "      <td>0.153969</td>\n",
       "      <td>0.150338</td>\n",
       "      <td>0.150380</td>\n",
       "      <td>0.150312</td>\n",
       "      <td>10567.094156</td>\n",
       "    </tr>\n",
       "    <tr>\n",
       "      <th>std</th>\n",
       "      <td>0.012501</td>\n",
       "      <td>0.012814</td>\n",
       "      <td>0.013307</td>\n",
       "      <td>0.012899</td>\n",
       "      <td>0.013333</td>\n",
       "      <td>0.013063</td>\n",
       "      <td>0.012918</td>\n",
       "      <td>0.012780</td>\n",
       "      <td>6221.721232</td>\n",
       "    </tr>\n",
       "    <tr>\n",
       "      <th>min</th>\n",
       "      <td>0.119746</td>\n",
       "      <td>0.117820</td>\n",
       "      <td>0.116974</td>\n",
       "      <td>0.115786</td>\n",
       "      <td>0.119502</td>\n",
       "      <td>0.116332</td>\n",
       "      <td>0.116370</td>\n",
       "      <td>0.117361</td>\n",
       "      <td>0.000000</td>\n",
       "    </tr>\n",
       "    <tr>\n",
       "      <th>25%</th>\n",
       "      <td>0.149213</td>\n",
       "      <td>0.149268</td>\n",
       "      <td>0.147060</td>\n",
       "      <td>0.146744</td>\n",
       "      <td>0.150438</td>\n",
       "      <td>0.146495</td>\n",
       "      <td>0.146565</td>\n",
       "      <td>0.146482</td>\n",
       "      <td>5177.500000</td>\n",
       "    </tr>\n",
       "    <tr>\n",
       "      <th>50%</th>\n",
       "      <td>0.151007</td>\n",
       "      <td>0.151351</td>\n",
       "      <td>0.149639</td>\n",
       "      <td>0.148874</td>\n",
       "      <td>0.152409</td>\n",
       "      <td>0.148438</td>\n",
       "      <td>0.148448</td>\n",
       "      <td>0.148342</td>\n",
       "      <td>10565.000000</td>\n",
       "    </tr>\n",
       "    <tr>\n",
       "      <th>75%</th>\n",
       "      <td>0.156103</td>\n",
       "      <td>0.156384</td>\n",
       "      <td>0.154420</td>\n",
       "      <td>0.154026</td>\n",
       "      <td>0.158056</td>\n",
       "      <td>0.153872</td>\n",
       "      <td>0.153553</td>\n",
       "      <td>0.153606</td>\n",
       "      <td>15952.500000</td>\n",
       "    </tr>\n",
       "    <tr>\n",
       "      <th>max</th>\n",
       "      <td>0.326161</td>\n",
       "      <td>0.325306</td>\n",
       "      <td>0.377078</td>\n",
       "      <td>0.349152</td>\n",
       "      <td>0.322789</td>\n",
       "      <td>0.347876</td>\n",
       "      <td>0.358188</td>\n",
       "      <td>0.320975</td>\n",
       "      <td>21340.000000</td>\n",
       "    </tr>\n",
       "  </tbody>\n",
       "</table>\n",
       "</div>"
      ],
      "text/plain": [
       "                 0            1            2            3            4  \\\n",
       "count  2156.000000  2156.000000  2156.000000  2156.000000  2156.000000   \n",
       "mean      0.152867     0.153102     0.151212     0.150680     0.153969   \n",
       "std       0.012501     0.012814     0.013307     0.012899     0.013333   \n",
       "min       0.119746     0.117820     0.116974     0.115786     0.119502   \n",
       "25%       0.149213     0.149268     0.147060     0.146744     0.150438   \n",
       "50%       0.151007     0.151351     0.149639     0.148874     0.152409   \n",
       "75%       0.156103     0.156384     0.154420     0.154026     0.158056   \n",
       "max       0.326161     0.325306     0.377078     0.349152     0.322789   \n",
       "\n",
       "                 5            6            7         times  \n",
       "count  2156.000000  2156.000000  2156.000000   2156.000000  \n",
       "mean      0.150338     0.150380     0.150312  10567.094156  \n",
       "std       0.013063     0.012918     0.012780   6221.721232  \n",
       "min       0.116332     0.116370     0.117361      0.000000  \n",
       "25%       0.146495     0.146565     0.146482   5177.500000  \n",
       "50%       0.148438     0.148448     0.148342  10565.000000  \n",
       "75%       0.153872     0.153553     0.153606  15952.500000  \n",
       "max       0.347876     0.358188     0.320975  21340.000000  "
      ]
     },
     "execution_count": 65,
     "metadata": {},
     "output_type": "execute_result"
    }
   ],
   "source": [
    "data.describe()"
   ]
  },
  {
   "cell_type": "markdown",
   "metadata": {},
   "source": [
    "### tentukan range\n",
    "- state 1 : <= 0.14\n",
    "- state 2 : 0.14 - 0.18\n",
    "- state 3 : >= 0.18"
   ]
  },
  {
   "cell_type": "markdown",
   "metadata": {},
   "source": [
    "# Proses pada data channel 0"
   ]
  },
  {
   "cell_type": "code",
   "execution_count": 90,
   "metadata": {},
   "outputs": [
    {
     "data": {
      "text/plain": [
       "54"
      ]
     },
     "execution_count": 90,
     "metadata": {},
     "output_type": "execute_result"
    }
   ],
   "source": [
    "data_ch0 = []\n",
    "for index, row in data.iterrows():\n",
    "    if row[0] <= 0.16:\n",
    "        data_ch0.append(0)\n",
    "    elif row[0] > 0.16 and row[0] < 0.17:\n",
    "        data_ch0.append(1)\n",
    "    elif row[0] >= 0.17:\n",
    "        data_ch0.append(2)\n",
    "\n",
    "data_ch0.count(2)"
   ]
  },
  {
   "cell_type": "code",
   "execution_count": 91,
   "metadata": {},
   "outputs": [],
   "source": [
    "states = [\"Green\", \"Orange\", \"Red\"]\n",
    "n_states = len(states)\n",
    "\n",
    "observations = [0, 1, 2]\n",
    "n_observations = len(observations)\n",
    "\n",
    "# initial probability\n",
    "phi = np.array([0.6, 0.2, 0.2])\n",
    "\n",
    "# transition probability\n",
    "A = np.array([[0.4, 0.3, 0.3],\n",
    "              [0.3, 0.5, 0.3],\n",
    "              [0.1, 0.3, 0.6]])\n",
    "\n",
    "# observation probability\n",
    "B = np.array([[0.2, 0.3, 0.5],\n",
    "              [0.5, 0.4, 0.1],\n",
    "              [0.5, 0.3, 0.2]])"
   ]
  },
  {
   "cell_type": "code",
   "execution_count": 92,
   "metadata": {},
   "outputs": [],
   "source": [
    "from sklearn.metrics import accuracy_score"
   ]
  },
  {
   "cell_type": "code",
   "execution_count": 93,
   "metadata": {},
   "outputs": [
    {
     "data": {
      "text/plain": [
       "0.5"
      ]
     },
     "execution_count": 93,
     "metadata": {},
     "output_type": "execute_result"
    }
   ],
   "source": [
    "true = [0, 1, 0, 0, 1, 2]\n",
    "pred = [1, 1, 0, 1, 2, 2]\n",
    "\n",
    "accuracy_score(true, pred)"
   ]
  },
  {
   "cell_type": "code",
   "execution_count": null,
   "metadata": {},
   "outputs": [],
   "source": []
  }
 ],
 "metadata": {
  "kernelspec": {
   "display_name": "Python 3",
   "language": "python",
   "name": "python3"
  },
  "language_info": {
   "codemirror_mode": {
    "name": "ipython",
    "version": 3
   },
   "file_extension": ".py",
   "mimetype": "text/x-python",
   "name": "python",
   "nbconvert_exporter": "python",
   "pygments_lexer": "ipython3",
   "version": "3.6.5"
  }
 },
 "nbformat": 4,
 "nbformat_minor": 2
}
